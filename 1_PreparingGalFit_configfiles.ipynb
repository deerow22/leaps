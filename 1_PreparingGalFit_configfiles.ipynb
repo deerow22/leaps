{
 "cells": [
  {
   "cell_type": "code",
   "execution_count": 1,
   "metadata": {},
   "outputs": [],
   "source": [
    "%matplotlib inline\n",
    "import astropy.io.fits as pyfits\n",
    "import numpy as np\n",
    "from astropy.utils.data import get_pkg_data_filename\n",
    "import subprocess as sp\n",
    "import scipy.ndimage as sci_nd\n",
    "import glob\n",
    "import matplotlib.pyplot as mpl\n",
    "from astropy.table import Table\n",
    "import sys\n",
    "import os\n",
    "from astropy.io import ascii\n"
   ]
  },
  {
   "cell_type": "code",
   "execution_count": 2,
   "metadata": {},
   "outputs": [],
   "source": [
    "#from utils on Bruno's github\n",
    "\n",
    "def select_object_map(xc,yc,segmap,pixscale,radius):\n",
    "    r\"\"\"Filters the segmentation mask of the object by setting all regions\n",
    "    outside the given radius (in arcseconds) to 0 in the output segmentation\n",
    "    mask.\n",
    "    Parameters\n",
    "    ----------\n",
    "    xc : float\n",
    "        the horizontal coordinate (in pixel) of the object center\n",
    "    yc : float\n",
    "        the vertical coordinate (in pixel) of the object center\n",
    "    segmap: int, array\n",
    "        A binary image array flagging all pixels to be considered for the\n",
    "        computation. It uses all pixels with non-zero values.\n",
    "    pixscale : float\n",
    "        The scale to convert between pixel and arcseconds (given in arcsec/pix).\n",
    "        If one wants to compute everything in pixel coordinates simply set the\n",
    "        pixscale to one.\n",
    "    radius : float\n",
    "        The distance to consider above which all detected objects are discarded.\n",
    "        Note that it is only required that a region has at least one pixel at a\n",
    "        distance smaller than radius to be included in the filtered segmentation\n",
    "        mask.\n",
    "    Returns\n",
    "    -------\n",
    "    new_map : int, array\n",
    "        A binary array with all regions containing at least one pixel at a\n",
    "        distance smaller than the given radius.\n",
    "    References\n",
    "    ----------\n",
    "    Examples\n",
    "    --------\n",
    "    \"\"\"\n",
    "    Dmat,d=distance_matrix(xc,yc,segmap)\n",
    "    s_values = np.unique(segmap[Dmat<np.sqrt(2)*radius/pixscale])\n",
    "    new_map = segmap.copy()\n",
    "    for s in s_values:\n",
    "        if s==0:\n",
    "            continue\n",
    "        new_map[new_map==s]=-1\n",
    "    new_map[new_map>0]=0\n",
    "    return -new_map\n",
    "\n",
    "def select_object_map_connected(xc,yc,image,segmap,pixscale,radius=0.5):\n",
    "    r\"\"\"Selects a single connected region on the segmentation mask that contains\n",
    "    the brightest pixel inside the given radius (in arcseconds).\n",
    "    Parameters\n",
    "    ----------\n",
    "    xc : float\n",
    "        the horizontal coordinate (in pixel) of the object center\n",
    "    yc : float\n",
    "        the vertical coordinate (in pixel) of the object center\n",
    "    img : float, array\n",
    "        The image array containing the data for which to select the region.\n",
    "    segmap: int, array\n",
    "        A binary image array flagging all pixels to be considered for the\n",
    "        computation. It uses all pixels with non-zero values.\n",
    "    pixscale : float\n",
    "        The scale to convert between pixel and arcseconds (given in arcsec/pix).\n",
    "        If one wants to compute everything in pixel coordinates simply set the\n",
    "        pixscale to one.\n",
    "    radius : float\n",
    "        The distance to consider above which all detected objects are discarded.\n",
    "        Note that it is only required that a region has at least one pixel at a\n",
    "        distance smaller than radius to be included in the filtered segmentation\n",
    "        mask.\n",
    "    Returns\n",
    "    -------\n",
    "    new_map : int, array\n",
    "        A binary array with the connected region containing the brightest pixel\n",
    "        at a distance smaller than the given radius.\n",
    "    References\n",
    "    ----------\n",
    "    Examples\n",
    "    --------\n",
    "    \"\"\"\n",
    "    Regions,Nregions = sci_nd.label(segmap)\n",
    "#    A= np.array([np.size(Regions[Regions==n]) for n in range(1,Nregions+1)])\n",
    "    try:\n",
    "        central_region = image.copy()\n",
    "        #print('test1')\n",
    "        Dmat,d=distance_matrix(xc,yc,segmap)\n",
    "        #print('test2')\n",
    "        ##print('Dmat shape:',np.shape(Dmat),'lenght Dmat:',len(Dmat),'type Dmat:', type(Dmat))#,'Dmat:',Dmat)\n",
    "       ## print('central region type:',type(central_region),'central region shape:',np.shape(central_region))\n",
    "        central_region[Dmat>(radius/pixscale)]=0.0\n",
    "        #print('test3')\n",
    "        central_region*=segmap\n",
    "        #print('test4')\n",
    "        fmax = np.where(central_region == np.amax(central_region))\n",
    "        #print('test5')\n",
    "        n = Regions[fmax]\n",
    "##        F= np.array([np.amax(image[Regions==n]) for n in range(1,Nregions+1)])\n",
    "##        n = np.argmax(F)+1\n",
    "        #print('test6')\n",
    "        Regions[Regions!=n]=0\n",
    "        #print('test7')\n",
    "        Regions[Regions>0]=1\n",
    "\n",
    "    except ValueError as err:\n",
    "        ## IN CASE OF NON-DETECTIONS returns empty segmentation map\n",
    "        print(err)\n",
    "        pass\n",
    "\n",
    "    # import matplotlib.pyplot as mpl\n",
    "    # nFig,nAx = mpl.subplots(1,3)\n",
    "    # nAx[0].imshow(segmap,cmap='rainbow')\n",
    "    # nAx[0].plot([xc],[yc],'wx',markersize=20,mew=2)\n",
    "    # nAx[1].imshow(central_region,cmap='rainbow')\n",
    "    # nAx[1].plot([xc],[yc],'wx',markersize=20,mew=2)\n",
    "    # nAx[2].imshow(Regions,cmap='YlGnBu_r')\n",
    "    # nAx[2].plot([xc],[yc],'rx',markersize=20,mew=2)\n",
    "    # mpl.show()\n",
    "    return Regions\n",
    "\n",
    "\n",
    "def get_center_coords(imgname,ra,dec,hsize=1,verify_limits=True):\n",
    "    r\"\"\" Computes the x,y coordinates of a ra,dec position in a given image.\n",
    "    Parameters\n",
    "    ----------\n",
    "    imgname : string\n",
    "        The name of the FITS image to use as reference frame\n",
    "    ra : float\n",
    "        the right ascension coordinate\n",
    "    dec: float\n",
    "        the declination coordinate\n",
    "    hsize : int, optional\n",
    "        if given, checks if the computed coordinates are at a distance greater\n",
    "        than hsize from the image border.\n",
    "    verify_limits : bool, optional\n",
    "        if True, verifies the distance of the coordinates to the image border.\n",
    "    Returns\n",
    "    -------\n",
    "    (xc,yc) : tuple, float\n",
    "        A tuple with the x and y pixel-coordinates corresponing to the given\n",
    "        sky coordinates using the input image as reference frame.\n",
    "    References\n",
    "    ----------\n",
    "    Examples\n",
    "    --------\n",
    "    \"\"\"\n",
    "    hdr=pyfits.getheader(imgname)\n",
    "\n",
    "    return get_center_coords_hdr(hdr,ra,dec,hsize=1,verify_limits=verify_limits)\n",
    "\n",
    "def compute_ellipse_distmat(img,xc,yc,q=1.00,ang=0.00,overSampling = 1):\n",
    "    r\"\"\"Compute a matrix with dimensions of the image where in each pixel we\n",
    "    have the distance to the center xc,yc.\n",
    "    Parameters\n",
    "    ----------\n",
    "    img : float, array\n",
    "        The image array containing the data for which to compute the distance\n",
    "        matrix.\n",
    "    xc : float\n",
    "        the horizontal coordinate (in pixel) of the ellipse center\n",
    "    yc : float\n",
    "        the vertical coordinate (in pixel) of the ellipse center\n",
    "    q : float, optional\n",
    "        the axis ratio of the ellipse. If not given, computes the distance\n",
    "        assuming a circular geometry.\n",
    "    ang : float, optional\n",
    "        the position angle (in degrees) of the ellipse. If not given, an angle\n",
    "        of zero degrees is assumed.\n",
    "    Returns\n",
    "    -------\n",
    "    dmat : float, array\n",
    "        A 2D array of the same shape as the input image where each pixel encodes\n",
    "        its distance to the input center coordinates and the given geometry.\n",
    "    References\n",
    "    ----------\n",
    "    Examples\n",
    "    --------\n",
    "    \"\"\"\n",
    "    ang_rad = np.radians(ang)\n",
    "   ## print(\"image shape:\",img.shape)\n",
    "    X,Y = np.meshgrid(np.arange(img.shape[1]*overSampling),np.arange(img.shape[0]*overSampling))\n",
    "   ## print('x & y shapes:',X.shape, Y.shape)\n",
    "    rX=(X-xc*overSampling)/overSampling*np.cos(ang_rad)-(Y-yc*overSampling)/overSampling*np.sin(ang_rad)\n",
    "    rY=(X-xc*overSampling)/overSampling*np.sin(ang_rad)+(Y-yc*overSampling)/overSampling*np.cos(ang_rad)\n",
    "    dmat = np.sqrt(rX*rX+(1/(q*q))*rY*rY)\n",
    "    return dmat\n",
    "\n",
    "def distance_matrix(xc,yc,img):\n",
    "    r\"\"\"Compute a matrix with circular distances and a sorted np.array with\n",
    "    unique distance values from each pixel position to xc,yc.\n",
    "    Parameters\n",
    "    ----------\n",
    "    xc : float\n",
    "        the horizontal coordinate (in pixel) of the ellipse center\n",
    "    yc : float\n",
    "        the vertical coordinate (in pixel) of the ellipse center\n",
    "    img : float, array\n",
    "        The image array containing the data for which to compute the distance\n",
    "        matrix.\n",
    "    Returns\n",
    "    -------\n",
    "    Dmat : float, array\n",
    "        A 2D array of the same shape as the input image where each pixel encodes\n",
    "        its distance to the input center coordinates assuming circular geometry.\n",
    "    dists : float, array\n",
    "        a sorted array with unique distance values from the 2D distance matrix.\n",
    "    References\n",
    "    ----------\n",
    "    See also\n",
    "    ----------\n",
    "    compute_ellipse_distmat\n",
    "    Examples\n",
    "    --------\n",
    "    \"\"\"\n",
    "    Dmat= compute_ellipse_distmat(img,xc,yc)\n",
    "    ##print(\"DMat shape:\",np.shape(Dmat))\n",
    "    dists=np.sort(np.unique(Dmat))\n",
    "    return Dmat, dists\n"
   ]
  },
  {
   "cell_type": "code",
   "execution_count": 3,
   "metadata": {},
   "outputs": [],
   "source": [
    "#from galfit on Bruno's github\n",
    "\n",
    "\n",
    "def get_fixpars_default():\n",
    "    r\"\"\" Returns the default dictionary containing the information on whether\n",
    "    or not to fix any parameter of the fit. By default, all parameters are\n",
    "    not fixed.\n",
    "    Parameters\n",
    "    ----------\n",
    "    Returns\n",
    "    -------\n",
    "    fixpars : dict\n",
    "        A dictionary for each of the sersic parameters setting the fix/free key.\n",
    "    References\n",
    "    ----------\n",
    "    Examples\n",
    "    --------\n",
    "    \"\"\"\n",
    "    return {'x':1,'y':1,'m':1,'re':1,'n':1,'q':1,'pa':1,'sky':1}\n",
    "\n",
    "\n",
    "\n",
    "def write_object(model,x,y,m,re,n,ba,pa,num,fixpars=None):\n",
    "    r\"\"\" Returns a string object containing a general description for a galaxy\n",
    "    profile model in GALFIT, with the input parameters as first guesses.\n",
    "    Parameters\n",
    "    ----------\n",
    "    model : str\n",
    "    Returns\n",
    "    -------\n",
    "    References\n",
    "    ----------\n",
    "    Examples\n",
    "    --------\n",
    "    \"\"\"\n",
    "    if fixpars is None:\n",
    "        fixpars=get_fixpars_default()\n",
    "\n",
    "    objString = \"\"\n",
    "    objString += \"#Object number: %i\\n\"%(num)\n",
    "    objString += \" 0) %s             # Object type\\n\"%(model)\n",
    "    objString += \" 1) %6.4f %6.4f  %i %i    # position x, y        [pixel]\\n\"%(x,y,fixpars['x'],fixpars['y'])\n",
    "    objString += \" 3) %4.4f      %i       # total magnitude\\n\"%(m,fixpars['m'])\n",
    "    objString += \" 4) %4.4f       %i       #     R_e              [Pixels]\\n\"%(re,fixpars['re'])\n",
    "    objString += \" 5) %4.4f       %i       # Sersic exponent (deVauc=4, expdisk=1)\\n\"%(n,fixpars['n'])\n",
    "    objString += \" 9) %4.4f       %i       # axis ratio (b/a)   \\n\"%(ba,fixpars['q'])\n",
    "    objString += \"10) %4.4f       %i       # position angle (PA)  [Degrees: Up=0, Left=90]\\n\"%(pa,fixpars['pa'])\n",
    "    objString += \" Z) 0                  #  Skip this model in output image?  (yes=1, no=0)\\n\"\n",
    "    objString += \" \\n\"\n",
    "    return objString\n",
    "\n",
    "\n",
    "def input_file(f,modelsString,magzpt,sky,x_range,y_range,sconvbox,pixscale,imgname='input.fits',outname=\"output.fits\",psfname='none',maskname=\"none\",signame='none',fixpars=None):\n",
    "    r\"\"\" Writes an input galfit file with the provided parameters.\n",
    "    Parameters\n",
    "    ----------\n",
    "    f : file pointer\n",
    "        Python file pointer to be written\n",
    "    modelsString : str\n",
    "        A single string containing the starting parameters of the models to be\n",
    "        used. Model strings can be generated by the write_object function.\n",
    "    magzpt : float\n",
    "        Magnitude zeropoint of the image data. Needed for correct model\n",
    "        magnitudes.\n",
    "    sky : float\n",
    "        Initial value for sky background (assumed to be constant)\n",
    "    x_range : tuple, int\n",
    "        X-axis boundaries to be used in image fitting (useful to fit a subset\n",
    "        of a larger image).\n",
    "    y_range : tuple, int\n",
    "        Same as z_range, but for y-axis boundaries.\n",
    "    sconvbox : int\n",
    "        Size of the convolution box to be applied to the model image (should be\n",
    "        at least the size of the PSF image).\n",
    "    pixscale : float\n",
    "        Pixel scale (in arcsecond/pixel) of the input image data\n",
    "    imgname : str, optional\n",
    "        Name of the image with the input data (default - input.fits)\n",
    "    outname : str, optional\n",
    "        Name of the output image block to be created by GALFIT\n",
    "        (default - output.fits)\n",
    "    psfname : str, optional\n",
    "        Name of the psf fits file, to be used for model convolution\n",
    "        (default - none, no psf used)\n",
    "    maskname : str, optional\n",
    "        Name of the mask file to be used in the fit. It mask bad pixel values\n",
    "        and others (e.g. neighbor objects) that are ignored by the fitting\n",
    "        algorithm (default - none, no mask used).\n",
    "    signame : str, optional\n",
    "        Error image corresponding to the input data.\n",
    "        (default - none, sigma image created internally).\n",
    "    fixpars : dict\n",
    "        Dictionary which controls if parameters are fixed or not for the fit.\n",
    "        This is used here to control wether the sky background is fixed or a\n",
    "        free parameter for the fit.\n",
    "    Returns\n",
    "    -------\n",
    "        None\n",
    "        It writes to the file \"f\" and returns nothing.\n",
    "    References\n",
    "    ----------\n",
    "    Examples\n",
    "    --------\n",
    "    \"\"\"\n",
    "    if fixpars is None:\n",
    "        fixpars=get_fixpars_default()\n",
    "\n",
    "    assert len(x_range)==len(y_range)==2,\"x_range,y_range must have two elements\"\n",
    "    assert x_range[1]>x_range[0],\"x_range must be sorted in ascendent order\"\n",
    "    assert y_range[1]>y_range[0],\"y_range must be sorted in ascendent order\"\n",
    "\n",
    "    f.write(\"================================================================================\\n\")\n",
    "    f.write(\"# IMAGE and GALFIT CONTROL PARAMETERS\\n\")\n",
    "    f.write(\"A) %s         # Input data image (FITS file)\\n\"%imgname)\n",
    "    f.write(\"B) %s        # Output data image block\\n\"%outname)\n",
    "    f.write(\"C) %s                # Sigma image name (made from data if blank or 'none' \\n\"%signame)\n",
    "    f.write(\"D) %s         # Input PSF image and (optional) diffusion kernel\\n\"%psfname)\n",
    "    f.write(\"E) 1                   # PSF fine sampling factor relative to data \\n\")\n",
    "    f.write(\"F) %s                # Bad pixel mask (FITS image or ASCII coord list)\\n\"%maskname)\n",
    "    f.write(\"G) none                # File with parameter constraints (ASCII file) \\n\")\n",
    "    f.write(\"H) %i    %i   %i    %i # Image region to fit (xmin xmax ymin ymax)\\n\"%(x_range[0],x_range[1],y_range[0],y_range[1]))\n",
    "    f.write(\"I) %i    %i          # Size of the convolution box (x y)\\n\"%(sconvbox,sconvbox))\n",
    "    f.write(\"J) %7.5f             # Magnitude photometric zeropoint \\n\"%magzpt)\n",
    "    f.write(\"K) %.3f %.3f        # Plate scale (dx dy)   [arcsec per pixel]\\n\"%(pixscale,pixscale))\n",
    "    f.write(\"O) regular             # Display type (regular, curses, both)\\n\")\n",
    "    f.write(\"P) 0                   # Options: 0=normal run; 1,2=make model/imgblock and quit\\n\")\n",
    "    f.write(\"\\n\")\n",
    "    f.write(\"# INITIAL FITTING PARAMETERS\\n\")\n",
    "    f.write(\"#\\n\")\n",
    "    f.write(\"#For object type, the allowed functions are:\\n\")\n",
    "    f.write(\"#nuker, sersic, expdisk, devauc, king, psf, gaussian, moffat,\\n\")\n",
    "    f.write(\"#ferrer, and sky.\\n\")\n",
    "    f.write(\"#\\n\")\n",
    "    f.write(\"#Hidden parameters will only appear when theyre specified:\\n\")\n",
    "    f.write(\"#C0 (diskyness/boxyness),\\n\")\n",
    "    f.write(\"#Fn (n=integer, Azimuthal Fourier Modes).\\n\")\n",
    "    f.write(\"#R0-R10 (PA rotation, for creating spiral structures).\\n\")\n",
    "    f.write(\"#\\n\")\n",
    "    f.write(\"# ------------------------------------------------------------------------------\\n\")\n",
    "    f.write(\"#  par)    par value(s)    fit toggle(s)   parameter description\\n\")\n",
    "    f.write(\"# ------------------------------------------------------------------------------\\n\")\n",
    "    f.write(\"\\n\")\n",
    "\n",
    "    f.write(modelsString)\n",
    "\n",
    "    f.write(\"# Object: Sky\\n\")\n",
    "    f.write(\" 0) sky                    #  object type\\n\")\n",
    "    f.write(\" 1) %7.4f      %i          #  sky background at center of fitting region [ADUs]\\n\"%(sky,fixpars['sky']))\n",
    "    f.write(\" 2) 0.0000      0          #  dsky/dx (sky gradient in x)\\n\")\n",
    "    f.write(\" 3) 0.0000      0          #  dsky/dy (sky gradient in y)\\n\")\n",
    "    f.write(\" Z) 0                      #  output option (0 = resid., 1 = Dont subtract)\")\n",
    "    f.close()\n",
    "    return\n"
   ]
  },
  {
   "cell_type": "code",
   "execution_count": 4,
   "metadata": {},
   "outputs": [],
   "source": [
    "#amended code\n",
    "\n",
    "def select_object_segmap(segmap,index):\n",
    "    Regions = np.zeros_like(segmap)\n",
    "    if index not in segmap:\n",
    "        raise ValueError('index not in segmentation map')\n",
    "    Regions[segmap==index]=index\n",
    "    return Regions"
   ]
  },
  {
   "cell_type": "code",
   "execution_count": null,
   "metadata": {},
   "outputs": [],
   "source": []
  },
  {
   "cell_type": "markdown",
   "metadata": {},
   "source": [
    "# Starting to make parameters needed for GalFits input config file"
   ]
  },
  {
   "cell_type": "code",
   "execution_count": 5,
   "metadata": {},
   "outputs": [],
   "source": [
    "#defing inputs\n",
    "#Main Idea: Mask_name = segmentation_map - mask_map\n",
    "#                       segmentation_maps = {filter}_check.fits files\n",
    "\n",
    "\n",
    "#One Filter to start\n",
    "filters = {\"F105W\"}\n",
    "\n",
    "#all detected objects in this filter\n",
    "detected_objs_file = ascii.read('/data1/rowland/testPSF_F105W.cat')"
   ]
  },
  {
   "cell_type": "markdown",
   "metadata": {},
   "source": [
    "### Subselecting detections from segmap"
   ]
  },
  {
   "cell_type": "code",
   "execution_count": 6,
   "metadata": {},
   "outputs": [
    {
     "data": {
      "image/png": "[encoded data removed]",
      "text/plain": [
       "<Figure size 432x288 with 1 Axes>"
      ]
     },
     "metadata": {
      "needs_background": "light"
     },
     "output_type": "display_data"
    }
   ],
   "source": [
    "#test for where to put mag cut\n",
    "\n",
    "mpl.hist(detected_objs_file['MAG_AUTO'])\n",
    "mpl.show()"
   ]
  },
  {
   "cell_type": "code",
   "execution_count": 7,
   "metadata": {},
   "outputs": [
    {
     "data": {
      "text/html": [
       "<i>Table length=18</i>\n",
       "<table id=\"table140287577385504\" class=\"table-striped table-bordered table-condensed\">\n",
       "<thead><tr><th>NUMBER</th><th>MAG_AUTO</th><th>KRON_RADIUS</th><th>ISOAREA_IMAGE</th><th>XPEAK_IMAGE</th><th>YPEAK_IMAGE</th><th>X_IMAGE</th><th>Y_IMAGE</th><th>A_IMAGE</th><th>THETA_IMAGE</th><th>MU_MAX</th><th>ELLIPTICITY</th><th>CLASS_STAR</th><th>FLUX_RADIUS</th></tr></thead>\n",
       "<thead><tr><th></th><th>mag</th><th></th><th>pix2</th><th>pix</th><th>pix</th><th>pix</th><th>pix</th><th>pix</th><th>deg</th><th>mag / arcsec2</th><th></th><th></th><th>pix</th></tr></thead>\n",
       "<thead><tr><th>int64</th><th>float64</th><th>float64</th><th>int64</th><th>int64</th><th>int64</th><th>float64</th><th>float64</th><th>float64</th><th>float64</th><th>float64</th><th>float64</th><th>float64</th><th>float64</th></tr></thead>\n",
       "<tr><td>49</td><td>16.8159</td><td>3.5</td><td>2907</td><td>2069</td><td>687</td><td>2069.7666</td><td>686.6608</td><td>4.373</td><td>-1.29</td><td>15.7178</td><td>0.068</td><td>0.998</td><td>2.576</td></tr>\n",
       "<tr><td>70</td><td>18.2507</td><td>3.5</td><td>6022</td><td>1667</td><td>842</td><td>1667.3851</td><td>842.0582</td><td>16.98</td><td>37.22</td><td>19.0108</td><td>0.527</td><td>0.921</td><td>9.893</td></tr>\n",
       "<tr><td>236</td><td>19.873</td><td>4.81</td><td>3040</td><td>1545</td><td>1218</td><td>1545.1145</td><td>1218.0986</td><td>13.518</td><td>59.61</td><td>21.059</td><td>0.309</td><td>0.922</td><td>16.019</td></tr>\n",
       "<tr><td>286</td><td>19.0743</td><td>3.5</td><td>964</td><td>2836</td><td>1258</td><td>2835.8049</td><td>1257.6709</td><td>3.552</td><td>-15.97</td><td>17.9312</td><td>0.079</td><td>0.975</td><td>2.516</td></tr>\n",
       "<tr><td>413</td><td>18.509</td><td>3.64</td><td>6377</td><td>2023</td><td>1761</td><td>2022.579</td><td>1761.2362</td><td>18.282</td><td>42.21</td><td>20.0029</td><td>0.441</td><td>0.107</td><td>13.258</td></tr>\n",
       "<tr><td>738</td><td>17.1776</td><td>3.5</td><td>2360</td><td>3043</td><td>2098</td><td>3043.8003</td><td>2097.4651</td><td>4.078</td><td>-7.54</td><td>15.7596</td><td>0.027</td><td>0.976</td><td>2.295</td></tr>\n",
       "<tr><td>815</td><td>19.5938</td><td>3.5</td><td>1797</td><td>2039</td><td>2057</td><td>2039.0352</td><td>2056.7297</td><td>10.212</td><td>-21.72</td><td>19.837</td><td>0.524</td><td>0.87</td><td>6.32</td></tr>\n",
       "<tr><td>859</td><td>19.7286</td><td>3.5</td><td>653</td><td>905</td><td>2091</td><td>905.2455</td><td>2091.0654</td><td>3.394</td><td>5.5</td><td>18.6888</td><td>0.175</td><td>0.958</td><td>2.545</td></tr>\n",
       "<tr><td>915</td><td>18.3705</td><td>3.5</td><td>1413</td><td>3375</td><td>2204</td><td>3374.6672</td><td>2204.7578</td><td>3.702</td><td>-34.61</td><td>17.144</td><td>0.042</td><td>0.981</td><td>2.326</td></tr>\n",
       "<tr><td>1247</td><td>15.6094</td><td>3.5</td><td>6617</td><td>2561</td><td>2849</td><td>2560.8123</td><td>2848.3591</td><td>5.342</td><td>23.41</td><td>14.1421</td><td>0.053</td><td>0.998</td><td>2.197</td></tr>\n",
       "<tr><td>1429</td><td>19.4677</td><td>3.81</td><td>3475</td><td>2802</td><td>2912</td><td>2801.2766</td><td>2912.0305</td><td>13.029</td><td>28.94</td><td>20.4566</td><td>0.171</td><td>0.926</td><td>11.545</td></tr>\n",
       "<tr><td>1450</td><td>19.7413</td><td>4.3</td><td>2001</td><td>2744</td><td>2911</td><td>2744.5549</td><td>2911.6685</td><td>11.035</td><td>52.73</td><td>20.8523</td><td>0.306</td><td>0.91</td><td>11.93</td></tr>\n",
       "<tr><td>1504</td><td>18.3298</td><td>3.5</td><td>823</td><td>2759</td><td>2899</td><td>2758.7595</td><td>2898.4578</td><td>3.39</td><td>-88.28</td><td>16.8555</td><td>0.15</td><td>0.972</td><td>2.184</td></tr>\n",
       "<tr><td>1506</td><td>19.6395</td><td>4.08</td><td>2239</td><td>3402</td><td>2972</td><td>3401.614</td><td>2972.3813</td><td>9.69</td><td>30.0</td><td>20.1289</td><td>0.21</td><td>0.906</td><td>8.879</td></tr>\n",
       "<tr><td>1572</td><td>17.5226</td><td>3.5</td><td>2075</td><td>2610</td><td>3048</td><td>2609.9658</td><td>3047.9929</td><td>3.956</td><td>-17.46</td><td>15.9158</td><td>0.029</td><td>0.971</td><td>2.143</td></tr>\n",
       "<tr><td>1824</td><td>19.7675</td><td>3.5</td><td>686</td><td>3862</td><td>3268</td><td>3862.4019</td><td>3267.9897</td><td>3.091</td><td>-44.09</td><td>18.1073</td><td>0.051</td><td>0.944</td><td>2.094</td></tr>\n",
       "<tr><td>1839</td><td>19.1615</td><td>3.5</td><td>2037</td><td>2692</td><td>3408</td><td>2692.2927</td><td>3408.125</td><td>11.211</td><td>-54.49</td><td>19.1786</td><td>0.61</td><td>0.952</td><td>6.201</td></tr>\n",
       "<tr><td>2185</td><td>18.2484</td><td>3.5</td><td>1797</td><td>2203</td><td>4010</td><td>2203.0205</td><td>4009.6423</td><td>4.233</td><td>71.33</td><td>16.8071</td><td>0.113</td><td>0.971</td><td>2.191</td></tr>\n",
       "</table>"
      ],
      "text/plain": [
       "<Table length=18>\n",
       "NUMBER MAG_AUTO KRON_RADIUS ISOAREA_IMAGE ... ELLIPTICITY CLASS_STAR FLUX_RADIUS\n",
       "         mag                     pix2     ...                            pix    \n",
       "int64  float64    float64       int64     ...   float64    float64     float64  \n",
       "------ -------- ----------- ------------- ... ----------- ---------- -----------\n",
       "    49  16.8159         3.5          2907 ...       0.068      0.998       2.576\n",
       "    70  18.2507         3.5          6022 ...       0.527      0.921       9.893\n",
       "   236   19.873        4.81          3040 ...       0.309      0.922      16.019\n",
       "   286  19.0743         3.5           964 ...       0.079      0.975       2.516\n",
       "   413   18.509        3.64          6377 ...       0.441      0.107      13.258\n",
       "   738  17.1776         3.5          2360 ...       0.027      0.976       2.295\n",
       "   815  19.5938         3.5          1797 ...       0.524       0.87        6.32\n",
       "   859  19.7286         3.5           653 ...       0.175      0.958       2.545\n",
       "   915  18.3705         3.5          1413 ...       0.042      0.981       2.326\n",
       "  1247  15.6094         3.5          6617 ...       0.053      0.998       2.197\n",
       "  1429  19.4677        3.81          3475 ...       0.171      0.926      11.545\n",
       "  1450  19.7413         4.3          2001 ...       0.306       0.91       11.93\n",
       "  1504  18.3298         3.5           823 ...        0.15      0.972       2.184\n",
       "  1506  19.6395        4.08          2239 ...        0.21      0.906       8.879\n",
       "  1572  17.5226         3.5          2075 ...       0.029      0.971       2.143\n",
       "  1824  19.7675         3.5           686 ...       0.051      0.944       2.094\n",
       "  1839  19.1615         3.5          2037 ...        0.61      0.952       6.201\n",
       "  2185  18.2484         3.5          1797 ...       0.113      0.971       2.191"
      ]
     },
     "execution_count": 7,
     "metadata": {},
     "output_type": "execute_result"
    }
   ],
   "source": [
    "#subselecting detections for bright galaxies likely to be part of the cluster\n",
    "\n",
    "#quick cut based on magnitudes to get brightest BUT theres stars in here!, need further cut\n",
    "short_detections_intermediate = np.where(detected_objs_file['MAG_AUTO']<20)\n",
    "short_detections_stillstarstho = detected_objs_file[short_detections_intermediate]\n",
    "short_detections_stillstarstho"
   ]
  },
  {
   "cell_type": "code",
   "execution_count": 8,
   "metadata": {},
   "outputs": [
    {
     "name": "stdout",
     "output_type": "stream",
     "text": [
      "RED line is B1, BLUE line is B2\n",
      "Above red line are galaxies, between red & blue are stars\n"
     ]
    },
    {
     "data": {
      "image/png": "[encoded data removed]",
      "text/plain": [
       "<Figure size 720x576 with 2 Axes>"
      ]
     },
     "metadata": {
      "needs_background": "light"
     },
     "output_type": "display_data"
    }
   ],
   "source": [
    "# seperating stars from galaxies in above list (using psf code tricks)\n",
    "\n",
    "%matplotlib inline\n",
    "\n",
    "B1 = .5 #red\n",
    "B2 = 2 #blue\n",
    "print('RED line is B1, BLUE line is B2')\n",
    "print('Above red line are galaxies, between red & blue are stars')\n",
    "\n",
    "fig,ax = mpl.subplots(figsize=(10,8))\n",
    "S = ax.scatter(short_detections_stillstarstho[\"MAG_AUTO\"],short_detections_stillstarstho[\"MU_MAX\"], \\\n",
    "               c =short_detections_stillstarstho[\"CLASS_STAR\"], marker=\".\")\n",
    "P2 = ax.plot(short_detections_stillstarstho[\"MAG_AUTO\"],short_detections_stillstarstho[\"MAG_AUTO\"]-B1,color='r')\n",
    "P1 = ax.plot(short_detections_stillstarstho[\"MAG_AUTO\"],short_detections_stillstarstho[\"MAG_AUTO\"]-B2,color='b')\n",
    "ax.set_xlim(0.95*min(short_detections_stillstarstho[\"MAG_AUTO\"]),20)\n",
    "ax.set_xlabel(\"MAG_AUTO\")\n",
    "ax.set_ylabel(\"MU_MAX\")\n",
    "CLB = mpl.colorbar(S,ax=ax)\n",
    "CLB.set_label(\"CLASS_STAR\")\n",
    "mpl.show()\n"
   ]
  },
  {
   "cell_type": "code",
   "execution_count": 9,
   "metadata": {},
   "outputs": [
    {
     "name": "stdout",
     "output_type": "stream",
     "text": [
      "selection of galaxies:\n"
     ]
    },
    {
     "data": {
      "text/html": [
       "<i>Table length=8</i>\n",
       "<table id=\"table140287577874616\" class=\"table-striped table-bordered table-condensed\">\n",
       "<thead><tr><th>NUMBER</th><th>MAG_AUTO</th><th>KRON_RADIUS</th><th>ISOAREA_IMAGE</th><th>XPEAK_IMAGE</th><th>YPEAK_IMAGE</th><th>X_IMAGE</th><th>Y_IMAGE</th><th>A_IMAGE</th><th>THETA_IMAGE</th><th>MU_MAX</th><th>ELLIPTICITY</th><th>CLASS_STAR</th><th>FLUX_RADIUS</th></tr></thead>\n",
       "<thead><tr><th></th><th>mag</th><th></th><th>pix2</th><th>pix</th><th>pix</th><th>pix</th><th>pix</th><th>pix</th><th>deg</th><th>mag / arcsec2</th><th></th><th></th><th>pix</th></tr></thead>\n",
       "<thead><tr><th>int64</th><th>float64</th><th>float64</th><th>int64</th><th>int64</th><th>int64</th><th>float64</th><th>float64</th><th>float64</th><th>float64</th><th>float64</th><th>float64</th><th>float64</th><th>float64</th></tr></thead>\n",
       "<tr><td>70</td><td>18.2507</td><td>3.5</td><td>6022</td><td>1667</td><td>842</td><td>1667.3851</td><td>842.0582</td><td>16.98</td><td>37.22</td><td>19.0108</td><td>0.527</td><td>0.921</td><td>9.893</td></tr>\n",
       "<tr><td>236</td><td>19.873</td><td>4.81</td><td>3040</td><td>1545</td><td>1218</td><td>1545.1145</td><td>1218.0986</td><td>13.518</td><td>59.61</td><td>21.059</td><td>0.309</td><td>0.922</td><td>16.019</td></tr>\n",
       "<tr><td>413</td><td>18.509</td><td>3.64</td><td>6377</td><td>2023</td><td>1761</td><td>2022.579</td><td>1761.2362</td><td>18.282</td><td>42.21</td><td>20.0029</td><td>0.441</td><td>0.107</td><td>13.258</td></tr>\n",
       "<tr><td>815</td><td>19.5938</td><td>3.5</td><td>1797</td><td>2039</td><td>2057</td><td>2039.0352</td><td>2056.7297</td><td>10.212</td><td>-21.72</td><td>19.837</td><td>0.524</td><td>0.87</td><td>6.32</td></tr>\n",
       "<tr><td>1429</td><td>19.4677</td><td>3.81</td><td>3475</td><td>2802</td><td>2912</td><td>2801.2766</td><td>2912.0305</td><td>13.029</td><td>28.94</td><td>20.4566</td><td>0.171</td><td>0.926</td><td>11.545</td></tr>\n",
       "<tr><td>1450</td><td>19.7413</td><td>4.3</td><td>2001</td><td>2744</td><td>2911</td><td>2744.5549</td><td>2911.6685</td><td>11.035</td><td>52.73</td><td>20.8523</td><td>0.306</td><td>0.91</td><td>11.93</td></tr>\n",
       "<tr><td>1506</td><td>19.6395</td><td>4.08</td><td>2239</td><td>3402</td><td>2972</td><td>3401.614</td><td>2972.3813</td><td>9.69</td><td>30.0</td><td>20.1289</td><td>0.21</td><td>0.906</td><td>8.879</td></tr>\n",
       "<tr><td>1839</td><td>19.1615</td><td>3.5</td><td>2037</td><td>2692</td><td>3408</td><td>2692.2927</td><td>3408.125</td><td>11.211</td><td>-54.49</td><td>19.1786</td><td>0.61</td><td>0.952</td><td>6.201</td></tr>\n",
       "</table>"
      ],
      "text/plain": [
       "<Table length=8>\n",
       "NUMBER MAG_AUTO KRON_RADIUS ISOAREA_IMAGE ... ELLIPTICITY CLASS_STAR FLUX_RADIUS\n",
       "         mag                     pix2     ...                            pix    \n",
       "int64  float64    float64       int64     ...   float64    float64     float64  \n",
       "------ -------- ----------- ------------- ... ----------- ---------- -----------\n",
       "    70  18.2507         3.5          6022 ...       0.527      0.921       9.893\n",
       "   236   19.873        4.81          3040 ...       0.309      0.922      16.019\n",
       "   413   18.509        3.64          6377 ...       0.441      0.107      13.258\n",
       "   815  19.5938         3.5          1797 ...       0.524       0.87        6.32\n",
       "  1429  19.4677        3.81          3475 ...       0.171      0.926      11.545\n",
       "  1450  19.7413         4.3          2001 ...       0.306       0.91       11.93\n",
       "  1506  19.6395        4.08          2239 ...        0.21      0.906       8.879\n",
       "  1839  19.1615         3.5          2037 ...        0.61      0.952       6.201"
      ]
     },
     "execution_count": 9,
     "metadata": {},
     "output_type": "execute_result"
    }
   ],
   "source": [
    "#only selecting the galaxies\n",
    "\n",
    "\n",
    "galselection_intermediate1 = np.where(short_detections_stillstarstho[\"MU_MAX\"] > (short_detections_stillstarstho[\"MAG_AUTO\"]-B1)) \n",
    "selection_ofgalaxies = short_detections_stillstarstho[galselection_intermediate1]\n",
    "print('selection of galaxies:')\n",
    "selection_ofgalaxies #= selection_ofgalaxies.astype(np.int16) #goes from boolean to binary\n"
   ]
  },
  {
   "cell_type": "code",
   "execution_count": 17,
   "metadata": {},
   "outputs": [
    {
     "name": "stdout",
     "output_type": "stream",
     "text": [
      "selection of stars:\n"
     ]
    },
    {
     "data": {
      "text/html": [
       "<i>Table length=10</i>\n",
       "<table id=\"table140287452909072\" class=\"table-striped table-bordered table-condensed\">\n",
       "<thead><tr><th>NUMBER</th><th>MAG_AUTO</th><th>KRON_RADIUS</th><th>ISOAREA_IMAGE</th><th>XPEAK_IMAGE</th><th>YPEAK_IMAGE</th><th>X_IMAGE</th><th>Y_IMAGE</th><th>A_IMAGE</th><th>THETA_IMAGE</th><th>MU_MAX</th><th>ELLIPTICITY</th><th>CLASS_STAR</th><th>FLUX_RADIUS</th></tr></thead>\n",
       "<thead><tr><th></th><th>mag</th><th></th><th>pix2</th><th>pix</th><th>pix</th><th>pix</th><th>pix</th><th>pix</th><th>deg</th><th>mag / arcsec2</th><th></th><th></th><th>pix</th></tr></thead>\n",
       "<thead><tr><th>int64</th><th>float64</th><th>float64</th><th>int64</th><th>int64</th><th>int64</th><th>float64</th><th>float64</th><th>float64</th><th>float64</th><th>float64</th><th>float64</th><th>float64</th><th>float64</th></tr></thead>\n",
       "<tr><td>49</td><td>16.8159</td><td>3.5</td><td>2907</td><td>2069</td><td>687</td><td>2069.7666</td><td>686.6608</td><td>4.373</td><td>-1.29</td><td>15.7178</td><td>0.068</td><td>0.998</td><td>2.576</td></tr>\n",
       "<tr><td>286</td><td>19.0743</td><td>3.5</td><td>964</td><td>2836</td><td>1258</td><td>2835.8049</td><td>1257.6709</td><td>3.552</td><td>-15.97</td><td>17.9312</td><td>0.079</td><td>0.975</td><td>2.516</td></tr>\n",
       "<tr><td>738</td><td>17.1776</td><td>3.5</td><td>2360</td><td>3043</td><td>2098</td><td>3043.8003</td><td>2097.4651</td><td>4.078</td><td>-7.54</td><td>15.7596</td><td>0.027</td><td>0.976</td><td>2.295</td></tr>\n",
       "<tr><td>859</td><td>19.7286</td><td>3.5</td><td>653</td><td>905</td><td>2091</td><td>905.2455</td><td>2091.0654</td><td>3.394</td><td>5.5</td><td>18.6888</td><td>0.175</td><td>0.958</td><td>2.545</td></tr>\n",
       "<tr><td>915</td><td>18.3705</td><td>3.5</td><td>1413</td><td>3375</td><td>2204</td><td>3374.6672</td><td>2204.7578</td><td>3.702</td><td>-34.61</td><td>17.144</td><td>0.042</td><td>0.981</td><td>2.326</td></tr>\n",
       "<tr><td>1247</td><td>15.6094</td><td>3.5</td><td>6617</td><td>2561</td><td>2849</td><td>2560.8123</td><td>2848.3591</td><td>5.342</td><td>23.41</td><td>14.1421</td><td>0.053</td><td>0.998</td><td>2.197</td></tr>\n",
       "<tr><td>1504</td><td>18.3298</td><td>3.5</td><td>823</td><td>2759</td><td>2899</td><td>2758.7595</td><td>2898.4578</td><td>3.39</td><td>-88.28</td><td>16.8555</td><td>0.15</td><td>0.972</td><td>2.184</td></tr>\n",
       "<tr><td>1572</td><td>17.5226</td><td>3.5</td><td>2075</td><td>2610</td><td>3048</td><td>2609.9658</td><td>3047.9929</td><td>3.956</td><td>-17.46</td><td>15.9158</td><td>0.029</td><td>0.971</td><td>2.143</td></tr>\n",
       "<tr><td>1824</td><td>19.7675</td><td>3.5</td><td>686</td><td>3862</td><td>3268</td><td>3862.4019</td><td>3267.9897</td><td>3.091</td><td>-44.09</td><td>18.1073</td><td>0.051</td><td>0.944</td><td>2.094</td></tr>\n",
       "<tr><td>2185</td><td>18.2484</td><td>3.5</td><td>1797</td><td>2203</td><td>4010</td><td>2203.0205</td><td>4009.6423</td><td>4.233</td><td>71.33</td><td>16.8071</td><td>0.113</td><td>0.971</td><td>2.191</td></tr>\n",
       "</table>"
      ],
      "text/plain": [
       "<Table length=10>\n",
       "NUMBER MAG_AUTO KRON_RADIUS ISOAREA_IMAGE ... ELLIPTICITY CLASS_STAR FLUX_RADIUS\n",
       "         mag                     pix2     ...                            pix    \n",
       "int64  float64    float64       int64     ...   float64    float64     float64  \n",
       "------ -------- ----------- ------------- ... ----------- ---------- -----------\n",
       "    49  16.8159         3.5          2907 ...       0.068      0.998       2.576\n",
       "   286  19.0743         3.5           964 ...       0.079      0.975       2.516\n",
       "   738  17.1776         3.5          2360 ...       0.027      0.976       2.295\n",
       "   859  19.7286         3.5           653 ...       0.175      0.958       2.545\n",
       "   915  18.3705         3.5          1413 ...       0.042      0.981       2.326\n",
       "  1247  15.6094         3.5          6617 ...       0.053      0.998       2.197\n",
       "  1504  18.3298         3.5           823 ...        0.15      0.972       2.184\n",
       "  1572  17.5226         3.5          2075 ...       0.029      0.971       2.143\n",
       "  1824  19.7675         3.5           686 ...       0.051      0.944       2.094\n",
       "  2185  18.2484         3.5          1797 ...       0.113      0.971       2.191"
      ]
     },
     "execution_count": 17,
     "metadata": {},
     "output_type": "execute_result"
    }
   ],
   "source": [
    "#to select likely stars only\n",
    "\n",
    " \n",
    "\n",
    "#keeping them tables\n",
    "selection_intermediate1 = np.where(short_detections_stillstarstho[\"MU_MAX\"] < (short_detections_stillstarstho[\"MAG_AUTO\"]-B1)) \n",
    "selection_intermediate2 = short_detections_stillstarstho[selection_intermediate1]\n",
    "selection_intermediate3 = np.where(selection_intermediate2[\"MU_MAX\"] > (selection_intermediate2[\"MAG_AUTO\"]-B2))\n",
    "selection_ofstars = selection_intermediate2[selection_intermediate3]\n",
    "print('selection of stars:')\n",
    "selection_ofstars #= selection.astype(np.int16) #goes from boolean to binary\n"
   ]
  },
  {
   "cell_type": "code",
   "execution_count": 11,
   "metadata": {},
   "outputs": [
    {
     "data": {
      "image/png": "[encoded data removed]",
      "text/plain": [
       "<Figure size 720x576 with 2 Axes>"
      ]
     },
     "metadata": {
      "needs_background": "light"
     },
     "output_type": "display_data"
    }
   ],
   "source": [
    "#checking if above cut was good enough\n",
    "\n",
    "fig,ax = mpl.subplots(figsize=(10,8))\n",
    "S = ax.scatter(selection_ofgalaxies[\"MAG_AUTO\"],selection_ofgalaxies[\"MU_MAX\"], \\\n",
    "               c =selection_ofgalaxies[\"CLASS_STAR\"], marker=\".\")\n",
    "P2 = ax.plot(short_detections_stillstarstho[\"MAG_AUTO\"],short_detections_stillstarstho[\"MAG_AUTO\"]-B1,color='r')\n",
    "P1 = ax.plot(short_detections_stillstarstho[\"MAG_AUTO\"],short_detections_stillstarstho[\"MAG_AUTO\"]-B2,color='b')\n",
    "ax.set_xlim(0.95*min(short_detections_stillstarstho[\"MAG_AUTO\"]),20)\n",
    "ax.set_xlabel(\"MAG_AUTO\")\n",
    "ax.set_ylabel(\"MU_MAX\")\n",
    "CLB = mpl.colorbar(S,ax=ax)\n",
    "CLB.set_label(\"CLASS_STAR\")\n",
    "mpl.show()"
   ]
  },
  {
   "cell_type": "code",
   "execution_count": 12,
   "metadata": {},
   "outputs": [],
   "source": [
    "image_file = pyfits.open('/data1/rowland/elgordo_F105W.fits')\n",
    "image_data = image_file[0].data #PARAMETER"
   ]
  },
  {
   "cell_type": "code",
   "execution_count": 20,
   "metadata": {},
   "outputs": [
    {
     "data": {
      "image/png": "[encoded data removed]",
      "text/plain": [
       "<Figure size 432x288 with 1 Axes>"
      ]
     },
     "metadata": {
      "needs_background": "light"
     },
     "output_type": "display_data"
    },
    {
     "data": {
      "image/png": "[encoded data removed]",
      "text/plain": [
       "<Figure size 432x288 with 1 Axes>"
      ]
     },
     "metadata": {
      "needs_background": "light"
     },
     "output_type": "display_data"
    },
    {
     "data": {
      "image/png": "[encoded data removed]",
      "text/plain": [
       "<Figure size 432x288 with 1 Axes>"
      ]
     },
     "metadata": {
      "needs_background": "light"
     },
     "output_type": "display_data"
    },
    {
     "data": {
      "image/png": "[encoded data removed]",
      "text/plain": [
       "<Figure size 432x288 with 1 Axes>"
      ]
     },
     "metadata": {
      "needs_background": "light"
     },
     "output_type": "display_data"
    },
    {
     "data": {
      "image/png": "[encoded data removed]",
      "text/plain": [
       "<Figure size 432x288 with 1 Axes>"
      ]
     },
     "metadata": {
      "needs_background": "light"
     },
     "output_type": "display_data"
    },
    {
     "data": {
      "image/png": "[encoded data removed]",
      "text/plain": [
       "<Figure size 432x288 with 1 Axes>"
      ]
     },
     "metadata": {
      "needs_background": "light"
     },
     "output_type": "display_data"
    },
    {
     "data": {
      "image/png": "[encoded data removed]",
      "text/plain": [
       "<Figure size 432x288 with 1 Axes>"
      ]
     },
     "metadata": {
      "needs_background": "light"
     },
     "output_type": "display_data"
    },
    {
     "data": {
      "image/png": "[encoded data removed]",
      "text/plain": [
       "<Figure size 432x288 with 1 Axes>"
      ]
     },
     "metadata": {
      "needs_background": "light"
     },
     "output_type": "display_data"
    }
   ],
   "source": [
    "#verifying that stars  are stars & galaxies are galaxies\n",
    "\n",
    "for image in selection_ofgalaxies:\n",
    "    x = image['X_IMAGE'].astype(np.int)\n",
    "    y = image['Y_IMAGE'].astype(np.int)\n",
    "    width = 25\n",
    "    fig = mpl.figure()\n",
    "    mpl.imshow(image_data[y-width:y+width,x-width: x+width ], vmin=0,vmax=1)"
   ]
  },
  {
   "cell_type": "markdown",
   "metadata": {},
   "source": [
    "## Creating mask of cluster's galaxies"
   ]
  },
  {
   "cell_type": "code",
   "execution_count": 21,
   "metadata": {},
   "outputs": [
    {
     "name": "stdout",
     "output_type": "stream",
     "text": [
      "SHOULD BE STARTING NEXT DETECTIONS CYCLE\n",
      "SHOULD BE STARTING NEXT DETECTIONS CYCLE\n",
      "SHOULD BE STARTING NEXT DETECTIONS CYCLE\n",
      "SHOULD BE STARTING NEXT DETECTIONS CYCLE\n",
      "SHOULD BE STARTING NEXT DETECTIONS CYCLE\n",
      "SHOULD BE STARTING NEXT DETECTIONS CYCLE\n",
      "SHOULD BE STARTING NEXT DETECTIONS CYCLE\n",
      "SHOULD BE STARTING NEXT DETECTIONS CYCLE\n",
      "collected_regions: type: <class 'numpy.ndarray'> shape: (8, 4824, 4538)\n",
      "shape of final regions: (4824, 4538)\n"
     ]
    }
   ],
   "source": [
    "#FULL RUN\n",
    "\n",
    "\n",
    "\n",
    "#inputs defined\n",
    "segmap_file = pyfits.open('/data1/rowland/segmaps_check/F105W_check.fits')\n",
    "segmap = segmap_file[0].data+0 #PARAMETER\n",
    "collected_regions = []\n",
    "\n",
    "#for reference\n",
    "#image_file = pyfits.open('/data1/rowland/elgordo_F105W.fits')\n",
    "#image_data = image_file[0].data #PARAMETER\n",
    "#detected_objs_file = ascii.read('testPSF_F105W.cat')\n",
    "#selection_ofgalaxies = [detected_objs_file(where MAGs<20) & not stars] #not really code\n",
    "\n",
    "\n",
    "for detection in selection_ofgalaxies: #[1:3]:#[10:12]:\n",
    "    xc = detection[\"X_IMAGE\"] #in pix #PARAMETER\n",
    "    yc = detection[\"Y_IMAGE\"] #in pix #PARAMETER\n",
    "    pixscale = 0.06 #PARAMETER\n",
    "    index = detection['NUMBER']\n",
    "    #radius=0.5 ##DEFAULT value for reference #PARAMETER\n",
    "    each_region = select_object_segmap(segmap,index)\n",
    "    collected_regions.append(each_region)\n",
    "    print('SHOULD BE STARTING NEXT DETECTIONS CYCLE')  \n",
    "    ##break #1\n",
    "collected_regions = np.array(collected_regions)\n",
    "print('collected_regions: type:',type(collected_regions), 'shape:',collected_regions.shape)    \n",
    "final_regions = np.sum(collected_regions, axis=0) #COLLECTING ALL OUTPUTS TO ONE MASK\n",
    "print('shape of final regions:',final_regions.shape)\n",
    "#print(final)"
   ]
  },
  {
   "cell_type": "code",
   "execution_count": 22,
   "metadata": {},
   "outputs": [
    {
     "name": "stdout",
     "output_type": "stream",
     "text": [
      "shape of final regions: (4824, 4538)\n",
      "shape of one collected region: (4824, 4538)\n",
      "shape of segmap: (4824, 4538)\n",
      "shape of image data: (4824, 4538)\n",
      "cat file is a table of the data in segmap: <Table length=2360>\n",
      "     name      dtype       unit                            description                        \n",
      "------------- ------- ------------- ----------------------------------------------------------\n",
      "       NUMBER   int64               Running object number                                     \n",
      "     MAG_AUTO float64           mag                    Kron-like elliptical aperture magnitude\n",
      "  KRON_RADIUS float64               Kron apertures in units of A or B                         \n",
      "ISOAREA_IMAGE   int64          pix2                    Isophotal area above Analysis threshold\n",
      "  XPEAK_IMAGE   int64           pix                        x-coordinate of the brightest pixel\n",
      "  YPEAK_IMAGE   int64           pix                        y-coordinate of the brightest pixel\n",
      "      X_IMAGE float64           pix                                    Object position along x\n",
      "      Y_IMAGE float64           pix                                    Object position along y\n",
      "      A_IMAGE float64           pix                               Profile RMS along major axis\n",
      "  THETA_IMAGE float64           deg                                     Position angle (CCW/x)\n",
      "       MU_MAX float64 mag / arcsec2                   Peak surface brightness above background\n",
      "  ELLIPTICITY float64               1 - B_IMAGE/A_IMAGE                                       \n",
      "   CLASS_STAR float64               S/G classifier output                                     \n",
      "  FLUX_RADIUS float64           pix                                    Fraction-of-light radii\n",
      "\n"
     ]
    }
   ],
   "source": [
    "#checking output structures\n",
    "\n",
    "\n",
    "#for reference\n",
    "#filters = {\"F105W\"}\n",
    "#detected_objs_file = ascii.read('/data1/rowland/testPSF_F105W.cat')\n",
    "#image_file = pyfits.open('/data1/rowland/elgordo_F105W.fits')\n",
    "#image_data = image_file[0].data #PARAMETER\n",
    "#segmap_file = pyfits.open('/data1/rowland/segmaps_check/F105W_check.fits')\n",
    "#segmap = segmap_file[0].data+0 #PARAMETER\n",
    "\n",
    "\n",
    "print('shape of final regions:',final_regions.shape)\n",
    "print('shape of one collected region:', collected_regions[0].shape)\n",
    "print('shape of segmap:', segmap.shape)\n",
    "print('shape of image data:',image_data.shape )\n",
    "print('cat file is a table of the data in segmap:',detected_objs_file.info)"
   ]
  },
  {
   "cell_type": "markdown",
   "metadata": {},
   "source": [
    "## Creating Mask via subtraction"
   ]
  },
  {
   "cell_type": "code",
   "execution_count": 31,
   "metadata": {},
   "outputs": [],
   "source": [
    "\n",
    "#creating mask\n",
    "mask_file = segmap - final_regions\n",
    "\n",
    "#setting values to be binary\n",
    "mask_file[np.where(mask_file > 0)]=1\n",
    "mask_file[image_data==0]=1"
   ]
  },
  {
   "cell_type": "markdown",
   "metadata": {},
   "source": [
    "### verifying mask works"
   ]
  },
  {
   "cell_type": "code",
   "execution_count": 24,
   "metadata": {},
   "outputs": [
    {
     "data": {
      "text/plain": [
       "' \\n\\n#plotting all\\nfig, axis = mpl.subplots(1,4,figsize=(18,8),sharex=True,sharey=True)\\naxis[0].imshow(image_data,vmin = -0.01,vmax = 0.1)\\naxis[0].set_title(\\'hubble data\\')\\naxis[1].imshow(segmap,vmin=0,vmax=1)\\naxis[1].set_title(\\'segmap\\')\\naxis[2].imshow(final_regions,vmin=0, vmax=1)\\naxis[2].set_title(\\'detected regions\\')\\naxis[3].imshow(mask_file,vmin=0,vmax=1)\\naxis[3].set_title(\\'mask\\')\\nfor ax in axis:\\n    ax.plot(xc, yc, \"+\",ms=20,mew=3) #plots last run detected object\\n    \\n    w = 250\\n    #ax.set_xlim(xc-w,xc+w)\\n    #ax.set_ylim(yc-w,yc+w)\\n'"
      ]
     },
     "execution_count": 24,
     "metadata": {},
     "output_type": "execute_result"
    }
   ],
   "source": [
    "#this cell is alot to load, so only uncomment if need to see\n",
    "\n",
    "''' \n",
    "\n",
    "#plotting all\n",
    "fig, axis = mpl.subplots(1,4,figsize=(18,8),sharex=True,sharey=True)\n",
    "axis[0].imshow(image_data,vmin = -0.01,vmax = 0.1)\n",
    "axis[0].set_title('hubble data')\n",
    "axis[1].imshow(segmap,vmin=0,vmax=1)\n",
    "axis[1].set_title('segmap')\n",
    "axis[2].imshow(final_regions,vmin=0, vmax=1)\n",
    "axis[2].set_title('detected regions')\n",
    "axis[3].imshow(mask_file,vmin=0,vmax=1)\n",
    "axis[3].set_title('mask')\n",
    "for ax in axis:\n",
    "    ax.plot(xc, yc, \"+\",ms=20,mew=3) #plots last run detected object\n",
    "    \n",
    "    w = 250\n",
    "    #ax.set_xlim(xc-w,xc+w)\n",
    "    #ax.set_ylim(yc-w,yc+w)\n",
    "'''"
   ]
  },
  {
   "cell_type": "code",
   "execution_count": 25,
   "metadata": {},
   "outputs": [
    {
     "data": {
      "text/plain": [
       "\"\\n%matplotlib notebook \\n\\n#plotting\\nmpl.imshow(mask_file,vmin=0,vmax=1)\\n#axis[0].set_title('Original Mask')\\n\""
      ]
     },
     "execution_count": 25,
     "metadata": {},
     "output_type": "execute_result"
    }
   ],
   "source": [
    "'''\n",
    "%matplotlib notebook \n",
    "\n",
    "#plotting\n",
    "mpl.imshow(mask_file,vmin=0,vmax=1)\n",
    "#axis[0].set_title('Original Mask')\n",
    "'''"
   ]
  },
  {
   "cell_type": "markdown",
   "metadata": {},
   "source": [
    "# Dilated Final Galaxy Mask"
   ]
  },
  {
   "cell_type": "code",
   "execution_count": null,
   "metadata": {},
   "outputs": [],
   "source": [
    "\n"
   ]
  },
  {
   "cell_type": "code",
   "execution_count": 32,
   "metadata": {},
   "outputs": [
    {
     "data": {
      "text/plain": [
       "\"\\n#plotting\\nfig, axis = mpl.subplots(1,2,figsize=(18,8),sharex=True,sharey=True)\\naxis[0].imshow(dilated_mask,vmin = -0.01,vmax = 0.1)\\naxis[0].set_title('Dilated mask')\\naxis[1].imshow(mask_file,vmin=0,vmax=1)\\naxis[1].set_title('Original Mask')\\n\""
      ]
     },
     "execution_count": 32,
     "metadata": {},
     "output_type": "execute_result"
    }
   ],
   "source": [
    " \n",
    "%matplotlib inline \n",
    "\n",
    "#smoothing (ie increasing mask coverage to balance higher inital thresh when running SEx)\n",
    "dilated_mask = sci_nd.binary_dilation(mask_file,structure=np.ones([3,3])).astype(np.int16)\n",
    "'''\n",
    "#plotting\n",
    "fig, axis = mpl.subplots(1,2,figsize=(18,8),sharex=True,sharey=True)\n",
    "axis[0].imshow(dilated_mask,vmin = -0.01,vmax = 0.1)\n",
    "axis[0].set_title('Dilated mask')\n",
    "axis[1].imshow(mask_file,vmin=0,vmax=1)\n",
    "axis[1].set_title('Original Mask')\n",
    "'''"
   ]
  },
  {
   "cell_type": "code",
   "execution_count": 27,
   "metadata": {},
   "outputs": [],
   "source": [
    "#%matplotlib notebook \n",
    "\n",
    "#mpl.imshow(dilated_mask,vmin = -0.01,vmax = 0.1)\n"
   ]
  },
  {
   "cell_type": "code",
   "execution_count": 34,
   "metadata": {},
   "outputs": [],
   "source": [
    "#saving files for a config run of galfit later\n",
    "\n",
    "#uncomment IF changed, but these are HUGE so takes lots of memory\n",
    "\n",
    "pyfits.writeto('/data1/rowland/masks/dilated_mask_F105W.fits',dilated_mask,overwrite=True)\n",
    "pyfits.writeto('/data1/rowland/masks/undilated_mask_F105W.fits',mask_file,overwrite=True)\n"
   ]
  },
  {
   "cell_type": "code",
   "execution_count": null,
   "metadata": {},
   "outputs": [],
   "source": []
  }
 ],
 "metadata": {
  "kernelspec": {
   "display_name": "Python 3",
   "language": "python",
   "name": "python3"
  },
  "language_info": {
   "codemirror_mode": {
    "name": "ipython",
    "version": 3
   },
   "file_extension": ".py",
   "mimetype": "text/x-python",
   "name": "python",
   "nbconvert_exporter": "python",
   "pygments_lexer": "ipython3",
   "version": "3.7.3"
  }
 },
 "nbformat": 4,
 "nbformat_minor": 2
}
