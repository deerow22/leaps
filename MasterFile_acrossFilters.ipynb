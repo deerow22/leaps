{
 "cells": [
  {
   "cell_type": "code",
   "execution_count": 1,
   "metadata": {},
   "outputs": [],
   "source": [
    "%matplotlib inline\n",
    "import astropy.io.fits as pyfits\n",
    "import numpy as np\n",
    "from astropy.utils.data import get_pkg_data_filename\n",
    "from astropy.visualization import astropy_mpl_style\n",
    "import subprocess as sp\n",
    "import scipy.ndimage as sci_nd\n",
    "import glob\n",
    "import matplotlib.pyplot as plt\n",
    "from astropy.table import Table, join, hstack, vstack\n",
    "import sys\n",
    "import os\n",
    "from astropy.io import ascii\n",
    "from astropy import units as u\n",
    "from astropy.coordinates import SkyCoord, match_coordinates_sky"
   ]
  },
  {
   "cell_type": "code",
   "execution_count": 11,
   "metadata": {},
   "outputs": [],
   "source": [
    "#to easily cycle thru all filters....PART ONE (of3)\n",
    "\n",
    "def usingfilter(filtername):\n",
    "    #filter = filtername\n",
    "    detected_objs_file_table = ascii.read('/data1/rowland/testPSF_{}.cat'.format(filtername))\n",
    "    image_file = pyfits.open('/data1/rowland/elgordo_{}.fits'.format(filtername))\n",
    "    segmap_file = pyfits.open('/data1/rowland/segmaps_check/{}_check.fits'.format(filtername))\n",
    "    data_perfilter = detected_objs_file_table, image_file, segmap_file, filtername\n",
    "    return(data_perfilter)\n",
    "\n",
    "\n",
    "\n",
    "filters = [\"F105W\",\"F125W\",\"F140W\",\"F160W\",\"F435W\",\"F606W\",\"F625W\",\"F775W\",\"F814W\",\"F850LP\",\"F105W_galfit_test_folder\"]\n",
    "zeropoints = {\"F435W\":25.665,\"F606W\":26.493,\"F814W\":25.97,\"F105W\":26.2687,\"F125W\":26.2303,\"F140W\":24.4524,\\\n",
    "              \"F160W\":25.9463, \"F625W\":24.85714771, \"F775W\":25.66195995, \"F850LP\":25.89943399}\n"
   ]
  },
  {
   "cell_type": "code",
   "execution_count": 12,
   "metadata": {},
   "outputs": [],
   "source": [
    "#to easily cycle thru all filters....PART TWO (of3)\n",
    "\n",
    "#CHANGE FILTER HERE\n",
    "############################################################################\n",
    "data105 = usingfilter(filters[0])\n",
    "data125 = usingfilter(filters[1])\n",
    "data140 = usingfilter(filters[2])\n",
    "data160 = usingfilter(filters[3])\n",
    "data435 = usingfilter(filters[4])\n",
    "data606 = usingfilter(filters[5])\n",
    "data625 = usingfilter(filters[6])\n",
    "data775 = usingfilter(filters[7])\n",
    "data814 = usingfilter(filters[8])\n",
    "data850 = usingfilter(filters[9])\n",
    "\n",
    "\n",
    "############################################################################\n",
    "\n",
    "#this is harder, just do brunt force above\n",
    "# numbermatches = []\n",
    "# for count, filter in enumerate(filters):\n",
    "#     data = usingfilter(filter)\n",
    "# #    colnames = data[0].columns\n",
    "# #     for i in colnames:\n",
    "# #         ra = data[0][i]\n",
    "# #         dec = data[0][i]\n",
    "# #         print(ra,dec,'next')\n",
    "#     number = data[0]['NUMBER']\n",
    "#     ra = data[0]['ALPHA_J2000']\n",
    "#     dec = data[0]['DELTA_J2000']\n",
    "#     mag_auto = data[0]['MAG_AUTO']\n",
    "#     mag_auto_err = data[0]['MAGERR_AUTO']\n",
    "#     class_star = data[0]['CLASS_STAR']\n",
    "#     xpeak_image = data[0]['XPEAK_IMAGE']\n",
    "#     ypeak_image = data[0]['YPEAK_IMAGE']\n",
    "    \n",
    "#     #print(type(ra)) #table col\n",
    "#     #print(ra) #all per filter\n",
    "#     #do i want below? this is gonna be a HUGE table if have to carry vals per filter\n",
    "# #     x_image = data[0]['X_IMAGE']\n",
    "# #     y_image = data[0]['Y_IMAGE']\n",
    "# #     kron_radius = data[0]['KRON_RADIUS']\n",
    "# #     isoarea_image = data[0]['ISOAREA_IMAGE']\n",
    "# #     a_image = data[0]['A_IMAGE']\n",
    "# #     theta_image = data[0]['THETA_IMAGE']\n",
    "# #     mu_max = data[0]['MU_MAX']\n",
    "# #     ellip = data[0]['ELLIPTICITY']\n",
    "# #     flux_radius = data[0]['FLUX_RADIUS']\n",
    "#     break    "
   ]
  },
  {
   "cell_type": "code",
   "execution_count": 13,
   "metadata": {},
   "outputs": [],
   "source": [
    "#to easily cycle thru all filters....PART THREE (of3)\n",
    "\n",
    "filters = [\"F105W\",\"F125W\",\"F140W\",\"F160W\",\"F435W\",\"F606W\",\"F625W\",\"775W\",\"F814W\",\"F850LP\",\"F105W_galfit_test_folder\"]\n",
    "\n",
    "#defing data for F105W\n",
    "detected_objs_file105 = data105[0]\n",
    "image_file105 = data105[1]\n",
    "filtername105 = data105[3]\n",
    "\n",
    "#defing data for F125W\n",
    "detected_objs_file125 = data125[0]\n",
    "image_file125 = data125[1]\n",
    "filtername125 = data125[3]\n",
    "\n",
    "#defing data for F140W\n",
    "detected_objs_file140 = data140[0]\n",
    "image_file140 = data140[1]\n",
    "filtername140 = data140[3]\n",
    "\n",
    "#defing data for F160W\n",
    "detected_objs_file160 = data160[0]\n",
    "image_file160 = data160[1]\n",
    "filtername160 = data160[3]\n",
    "\n",
    "#defing data for F435W\n",
    "detected_objs_file435 = data435[0]\n",
    "image_file435 = data435[1]\n",
    "filtername435 = data435[3]\n",
    "\n",
    "#defing data for F606W\n",
    "detected_objs_file606 = data606[0]\n",
    "image_file606 = data606[1]\n",
    "filtername606 = data606[3]\n",
    "\n",
    "#defing data for F625W\n",
    "detected_objs_file625 = data625[0]\n",
    "image_file625 = data625[1]\n",
    "filtername625 = data625[3]\n",
    "\n",
    "#defing data for F775W\n",
    "detected_objs_file775 = data775[0]\n",
    "image_file775 = data775[1]\n",
    "filtername775 = data775[3]\n",
    "\n",
    "#defing data for F814W\n",
    "detected_objs_file814 = data814[0]\n",
    "image_file814 = data814[1]\n",
    "filtername814 = data814[3]\n",
    "\n",
    "#defing data for F850W\n",
    "detected_objs_file850 = data850[0]\n",
    "image_file850 = data850[1]\n",
    "filtername850 = data850[3]"
   ]
  },
  {
   "cell_type": "code",
   "execution_count": null,
   "metadata": {},
   "outputs": [],
   "source": [
    "ra105 = detected_objs_file105['ALPHA_J2000']\n",
    "dec105 = detected_objs_file105['DELTA_J2000']\n",
    "\n",
    "ra125 = detected_objs_file125['ALPHA_J2000']\n",
    "dec125 = detected_objs_file125['DELTA_J2000']\n",
    "\n",
    "ra140 = detected_objs_file140['ALPHA_J2000']\n",
    "dec140 = detected_objs_file140['DELTA_J2000']\n",
    "\n",
    "ra160 = detected_objs_file160['ALPHA_J2000']\n",
    "dec160 = detected_objs_file160['DELTA_J2000']\n",
    "\n",
    "#FINISH FOR OTHER FILTERS THEN DO CATALOG MATCHING WITH EACH FILTER TO FIX MAX # OF MATCHES, \n",
    "#THEN MATCH OTHER FILTERS TO THAT FILTERS RA & dECS BEFORE ADDING IN Z\n",
    "\n"
   ]
  },
  {
   "cell_type": "code",
   "execution_count": null,
   "metadata": {},
   "outputs": [],
   "source": [
    "#def elgordoimage_zoom(x,y):\n",
    "    #think i gotta get master file first"
   ]
  },
  {
   "cell_type": "code",
   "execution_count": null,
   "metadata": {},
   "outputs": [],
   "source": [
    "#for reference\n",
    "#how to image\n",
    "# plt.figure(figsize=(10,10))\n",
    "# plt.imshow(image_file814[0].data,vmin=0,vmax=1)\n",
    "# plt.xlim((np.min(interestingpoints['x814'])-50),np.max(interestingpoints['x814'])+50)\n",
    "# plt.ylim((np.min(interestingpoints['y814'])-50),np.max(interestingpoints['y814'])+50)\n",
    "# plt.scatter(interestingpoints['x814'],interestingpoints['y814'],marker='.',color='r')"
   ]
  },
  {
   "cell_type": "markdown",
   "metadata": {},
   "source": [
    "# making master file with z"
   ]
  },
  {
   "cell_type": "code",
   "execution_count": 14,
   "metadata": {},
   "outputs": [
    {
     "data": {
      "text/plain": [
       "ColDefs(\n",
       "    name = 'ACT-CL'; format = '10A'; disp = 'A10'\n",
       "    name = 'SMH'; format = '18A'; disp = 'A18'\n",
       "    name = 'RAJ2000'; format = 'D'; unit = 'deg'; disp = 'F10.4'\n",
       "    name = 'DEJ2000'; format = 'D'; unit = 'deg'; disp = 'F11.5'\n",
       "    name = 'imag'; format = 'E'; unit = 'mag'; disp = 'F6.3'\n",
       "    name = 'z'; format = 'D'; disp = 'F8.5'\n",
       "    name = 'e_z'; format = 'E'; disp = 'F8.5'\n",
       "    name = 'rcc'; format = 'E'; disp = 'F5.2'\n",
       "    name = 'MSF'; format = '39A'; disp = 'A39'\n",
       "    name = 'Simbad'; format = '6A'; disp = 'A6'\n",
       "    name = 'recno'; format = 'J'; disp = 'I8'\n",
       ")"
      ]
     },
     "execution_count": 14,
     "metadata": {},
     "output_type": "execute_result"
    }
   ],
   "source": [
    "# getting z data to match with all filters\n",
    "\n",
    "spec_data_file = pyfits.open('/data1/rowland/specz_actcl.fit')\n",
    "#spec_data_file.info() #2 things\n",
    "spec_data_header = spec_data_file[0].header #image\n",
    "spec_data = spec_data_file[1].data #data\n",
    "len(spec_data)#961\n",
    "spec_data.columns"
   ]
  },
  {
   "cell_type": "code",
   "execution_count": null,
   "metadata": {},
   "outputs": [],
   "source": []
  }
 ],
 "metadata": {
  "kernelspec": {
   "display_name": "Python 3",
   "language": "python",
   "name": "python3"
  },
  "language_info": {
   "codemirror_mode": {
    "name": "ipython",
    "version": 3
   },
   "file_extension": ".py",
   "mimetype": "text/x-python",
   "name": "python",
   "nbconvert_exporter": "python",
   "pygments_lexer": "ipython3",
   "version": "3.7.3"
  }
 },
 "nbformat": 4,
 "nbformat_minor": 2
}
